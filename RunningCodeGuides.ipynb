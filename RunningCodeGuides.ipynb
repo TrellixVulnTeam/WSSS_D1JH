{
  "nbformat": 4,
  "nbformat_minor": 0,
  "metadata": {
    "colab": {
      "name": "RunningCodeGuides.ipynb",
      "provenance": [],
      "collapsed_sections": []
    },
    "kernelspec": {
      "name": "python3",
      "display_name": "Python 3"
    },
    "language_info": {
      "name": "python"
    },
    "accelerator": "GPU"
  },
  "cells": [
    {
      "cell_type": "code",
      "source": [
        "# Clone code from repository\n",
        "%cd /content/drive/MyDrive\n",
        "!git clone https://github.com/duydinh92/WSSS.git"
      ],
      "metadata": {
        "id": "VV3iFt1SMe3I"
      },
      "execution_count": null,
      "outputs": []
    },
    {
      "cell_type": "code",
      "source": [
        "# Change path to clone folder\n",
        "%cd /content/drive/MyDrive/WSSS"
      ],
      "metadata": {
        "id": "wy1ff828NbY0"
      },
      "execution_count": null,
      "outputs": []
    },
    {
      "cell_type": "code",
      "source": [
        "# Install requirements\n",
        "!pip install -r requirements.txt"
      ],
      "metadata": {
        "id": "H3gTQe1iMg34"
      },
      "execution_count": null,
      "outputs": []
    },
    {
      "cell_type": "code",
      "source": [
        "# Unzip dataset\n",
        "!unzip /content/drive/MyDrive/WSSS/VOC2012_train_val.zip -d /content/"
      ],
      "metadata": {
        "id": "R3_kLUGvNyrB"
      },
      "execution_count": null,
      "outputs": []
    },
    {
      "cell_type": "code",
      "source": [
        "# Train ResNet with classification task\n",
        "!python classification/train_res+er+pcm.py --voc12_root /content/VOC2012_train_val --train_list voc12/train_aug.txt --val_list voc12/train.txt"
      ],
      "metadata": {
        "id": "nbH8Nw5xO6Py"
      },
      "execution_count": null,
      "outputs": []
    },
    {
      "cell_type": "code",
      "source": [
        "# Infer class activation map from trained ResNet (if want to use trained model, put train_res152+er+pcm_crop512_lr0.01_epoch8.pth in given link to folder experiments/models)\n",
        "!python classification/infer_cam.py --voc12_root /content/VOC2012_train_val --infer_list voc12/train_aug.txt --weights experiments/models/train_res152+er+pcm_crop512_lr0.01_epoch8.pth"
      ],
      "metadata": {
        "id": "8vUyTeEEQ3Dd"
      },
      "execution_count": null,
      "outputs": []
    },
    {
      "cell_type": "code",
      "source": [
        "# Train AffinityNet with label generate from previous cams with high confidence object and high confidence background(if you want to use pretrained backbone model, put )\n",
        "!python classification/train_affinity.py --voc12_root /content/VOC2012_train_val --train_list voc12/train_aug.txt --ho_crf_dir crf_4.0 --hb_crf_dir crf_24.0 "
      ],
      "metadata": {
        "id": "bKnywo37TaVJ"
      },
      "execution_count": null,
      "outputs": []
    },
    {
      "cell_type": "code",
      "source": [
        "# Improve previous cams with trained AffinityNet to generate pseudo label for segmentation (if want to use trained model, put train_affinity_net8.pth in given link to folder experiments/models)\n",
        "!python classification/infer_affinity.py --voc12_root /content/VOC2012_train_val --weights experiments/models/train_affinity_net8.pth --infer_list voc12/train_aug.txt --out_label pseudo_label"
      ],
      "metadata": {
        "id": "YnC3jI1LWyVt"
      },
      "execution_count": null,
      "outputs": []
    },
    {
      "cell_type": "code",
      "source": [
        "# Evaluate generated pseudo label for segmentation\n",
        "!python classification/evaluation_cam.py --list voc12/train.txt --voc12_root /content/VOC2012_train_val --predict_dir pseudo_label"
      ],
      "metadata": {
        "id": "27Gs7sZnVzMG"
      },
      "execution_count": null,
      "outputs": []
    },
    {
      "cell_type": "code",
      "source": [
        "# Train DeepLabV3+ backbone ResNet101 with pseudo label \n",
        "!python segmentation/main.py --data_root /content/VOC2012_train_val --model deeplabv3plus_resnet101"
      ],
      "metadata": {
        "id": "if1vbye7Y9Wh"
      },
      "execution_count": null,
      "outputs": []
    },
    {
      "cell_type": "code",
      "source": [
        "# Evaluate trained DeepLabV3+ model in val data (if want to use trained model, put best_deeplabv3plus_resnet101_pseudo.pth in given link to folder experiments/models)\n",
        "!python segmentation/main_eval.py --data_root /content/VOC2012_train_val --dataset voc --test_only --model deeplabv3plus_resnet101 --ckpt experiments/models/best_deeplabv3plus_resnet101_pseudo.pth"
      ],
      "metadata": {
        "id": "GVZHQUUfbx6t"
      },
      "execution_count": null,
      "outputs": []
    },
    {
      "cell_type": "code",
      "source": [
        "# Use trained DeepLabV3+ model to predict mask\n",
        "!python segmentation/predict.py --model deeplabv3plus_resnet101 --input input_dir --dataset voc --ckpt experiments/models/best_deeplabv3plus_resnet101_pseudo.pth --save_val_results_to result_dir"
      ],
      "metadata": {
        "id": "Vn2ZNY7Ge7DF"
      },
      "execution_count": null,
      "outputs": []
    },
    {
      "cell_type": "code",
      "source": [
        "# Install package to run streamlit in colab\n",
        "!npm install localtunnel"
      ],
      "metadata": {
        "id": "bDYlWUjbgFn5"
      },
      "execution_count": null,
      "outputs": []
    },
    {
      "cell_type": "code",
      "source": [
        "# Run streamlit app \n",
        "!streamlit run app.py &>/dev/null&\n",
        "!npx localtunnel --port 8501"
      ],
      "metadata": {
        "id": "A6FjAEbtgXLl"
      },
      "execution_count": null,
      "outputs": []
    }
  ]
}